{
 "cells": [
  {
   "cell_type": "markdown",
   "metadata": {},
   "source": [
    "# Basics with Perceptron (P)"
   ]
  },
  {
   "cell_type": "markdown",
   "metadata": {
    "tags": []
   },
   "source": [
    "* Find this notebook at `EpyNN/epynnlive/dummy_boolean/train.ipynb`.\n",
    "* Regular python code at `EpyNN/epynnlive/dummy_boolean/train.py`.\n",
    "\n",
    "Run the notebook online with [Google Colab](https://colab.research.google.com/github/Synthaze/EpyNN/blob/main/epynnlive/dummy_Boolean/train.ipynb).\n",
    "\n",
    "**Level: Beginner**"
   ]
  },
  {
   "cell_type": "markdown",
   "metadata": {},
   "source": [
    "In this notebook we will review:\n",
    "\n",
    "* Handling Boolean data.\n",
    "* Designing and training a simple perceptron using EpyNN objects.\n",
    "* Basics and general concepts relevant to the context."
   ]
  },
  {
   "cell_type": "markdown",
   "metadata": {},
   "source": [
    "**<font color='red'>This notebook does not enhance, extend or replace EpyNN's documentation.</font>**\n",
    "\n",
    "**Relevant documentation pages for the current notebook:**\n",
    "\n",
    "* [Neural Network - Model](https://epynn.net/EpyNN_Model.html)\n",
    "* [Architecture layers - Model](https://epynn.net/Layer_Model.html)\n",
    "* [Data - Model](https://epynn.net/Data_Model.html)\n",
    "* [Data Embedding (Input)](https://epynn.net/Embedding.html)\n",
    "* [Fully Connected (Dense)](https://epynn.net/Dense.html)"
   ]
  },
  {
   "cell_type": "markdown",
   "metadata": {},
   "source": [
    "## Import, configure and retrieve data"
   ]
  },
  {
   "cell_type": "markdown",
   "metadata": {},
   "source": [
    "Follow [this link](prepare_dataset.ipynb) for details about data preparation."
   ]
  },
  {
   "cell_type": "markdown",
   "metadata": {},
   "source": [
    "We will import all libraries and configure seeding, behaviors and directory. "
   ]
  },
  {
   "cell_type": "markdown",
   "metadata": {},
   "source": [
    "### Imports"
   ]
  },
  {
   "cell_type": "code",
   "execution_count": 1,
   "metadata": {},
   "outputs": [
    {
     "name": "stdout",
     "output_type": "stream",
     "text": [
      "The history saving thread hit an unexpected error (OperationalError('no such table: history')).History will not be written to the database.\n"
     ]
    }
   ],
   "source": [
    "# EpyNN/epynnlive/dummy_Boolean/train.ipynb\n",
    "# Install dependencies\n",
    "!pip install --upgrade-strategy only-if-needed epynn\n",
    "\n",
    "# Standard library imports\n",
    "import random\n",
    "\n",
    "# Related third party imports\n",
    "import numpy as np\n",
    "\n",
    "# Local application/library specific imports\n",
    "import epynn.initialize\n",
    "from epynn.commons.library import (\n",
    "    configure_directory,\n",
    "    read_model,\n",
    ")\n",
    "from epynn.network.models import EpyNN\n",
    "from epynn.embedding.models import Embedding\n",
    "from epynn.dense.models import Dense\n",
    "from epynnlive.dummy_boolean import prepare_dataset\n"
   ]
  },
  {
   "cell_type": "markdown",
   "metadata": {},
   "source": [
    "Note that we imported all libraries we will use, at once and on top of the script. Even though we are going through a notebook, we should pay attention to follow good practices for imports as stated in [PEP 8 -- Style Guide for Python Code](https://www.python.org/dev/peps/pep-0008/#imports).\n",
    "\n",
    "You may have also noted that ``# Related third party imports`` are limited to ``numpy``. \n",
    "\n",
    "We developed an educational resource for which computations rely on pure Python/NumPy, nothing else."
   ]
  },
  {
   "cell_type": "markdown",
   "metadata": {},
   "source": [
    "### Configuration"
   ]
  },
  {
   "cell_type": "markdown",
   "metadata": {},
   "source": [
    "Let's now proceed with the configuration and preferences for the current script."
   ]
  },
  {
   "cell_type": "code",
   "execution_count": 2,
   "metadata": {},
   "outputs": [
    {
     "name": "stdout",
     "output_type": "stream",
     "text": [
      "\u001b[1m\u001b[31mRemove: /media/synthase/beta/EpyNN/epynnlive/dummy_boolean/datasets\u001b[0m\n",
      "\u001b[1m\u001b[32mMake: /media/synthase/beta/EpyNN/epynnlive/dummy_boolean/datasets\u001b[0m\n",
      "\u001b[1m\u001b[31mRemove: /media/synthase/beta/EpyNN/epynnlive/dummy_boolean/models\u001b[0m\n",
      "\u001b[1m\u001b[32mMake: /media/synthase/beta/EpyNN/epynnlive/dummy_boolean/models\u001b[0m\n",
      "\u001b[1m\u001b[31mRemove: /media/synthase/beta/EpyNN/epynnlive/dummy_boolean/plots\u001b[0m\n",
      "\u001b[1m\u001b[32mMake: /media/synthase/beta/EpyNN/epynnlive/dummy_boolean/plots\u001b[0m\n"
     ]
    }
   ],
   "source": [
    "random.seed(1)\n",
    "\n",
    "np.set_printoptions(threshold=10)\n",
    "\n",
    "np.seterr(all='warn')\n",
    "\n",
    "configure_directory(clear=True)    # This is a dummy example"
   ]
  },
  {
   "cell_type": "markdown",
   "metadata": {},
   "source": [
    "We already explained the [reason for seeding](prepare_dataset.ipynb#Seeding).\n",
    "\n",
    "The call to ``np.set_printoptions()`` set the printing behavior of NumPy arrays. To not overfill this notebook, we instructed that beyond ``threshold=10`` NumPy will trigger summarization rather than full representation.\n",
    "\n",
    "The call to ``np.seterr()`` is **very important** if you want to be aware of what's happening in your Network. Follow the [numpy.seterr](https://numpy.org/doc/stable/reference/generated/numpy.seterr.html) official documentation for details. Herein, we make sure that floating-point errors will always ``warn`` on the terminal session and thus we will always be aware of them.\n",
    "\n",
    "Finally, the call to ``configure_directory()`` is purely facultative but creates the default EpyNN subdirectories in the working directory."
   ]
  },
  {
   "cell_type": "markdown",
   "metadata": {},
   "source": [
    "### Retrieve Boolean features and label "
   ]
  },
  {
   "cell_type": "markdown",
   "metadata": {},
   "source": [
    "From [prepare_dataset](prepare_dataset.ipynb#Preparedataset) we imported the function ``prepare_dataset()``."
   ]
  },
  {
   "cell_type": "code",
   "execution_count": 3,
   "metadata": {},
   "outputs": [],
   "source": [
    "X_features, Y_label = prepare_dataset(N_SAMPLES=50)"
   ]
  },
  {
   "cell_type": "markdown",
   "metadata": {},
   "source": [
    "Let's inspect, as always."
   ]
  },
  {
   "cell_type": "code",
   "execution_count": 4,
   "metadata": {},
   "outputs": [
    {
     "name": "stdout",
     "output_type": "stream",
     "text": [
      "1 False [False, True, False, True, True, False, True, False, True, False, False]\n",
      "0 True [False, True, False, True, True, False, True, False, True, False, True]\n",
      "0 True [True, True, False, True, False, True, True, False, False, True, False]\n",
      "1 False [False, False, False, False, False, False, True, True, False, False, True]\n",
      "1 False [False, False, False, False, False, True, True, False, True, True, True]\n"
     ]
    }
   ],
   "source": [
    "for sample in list(zip(X_features, Y_label))[:5]:\n",
    "    features, label = sample\n",
    "    print(label, (features.count(True) > features.count(False)), features)"
   ]
  },
  {
   "cell_type": "markdown",
   "metadata": {},
   "source": [
    "We have what we expect. Remember that the conditional expression is the dummy law we used to assign a label to dummy sample Boolean features."
   ]
  },
  {
   "cell_type": "markdown",
   "metadata": {},
   "source": [
    "## Perceptron - Single layer Neural Network"
   ]
  },
  {
   "cell_type": "markdown",
   "metadata": {},
   "source": [
    "Herein, we are going to build the most simple Neural Network and train it in the most simple way we can."
   ]
  },
  {
   "cell_type": "markdown",
   "metadata": {},
   "source": [
    "### The Embedding layer object"
   ]
  },
  {
   "cell_type": "markdown",
   "metadata": {},
   "source": [
    "In EpyNN, data must be passed as arguments upon call of the ``Embedding()`` layer class constructor.\n",
    "\n",
    "The instantiated object - the embedding or input layer - is always the first layer in Neural Networks made with EpyNN."
   ]
  },
  {
   "cell_type": "code",
   "execution_count": 5,
   "metadata": {},
   "outputs": [],
   "source": [
    "embedding = Embedding(X_data=X_features,\n",
    "                      Y_data=Y_label,\n",
    "                      relative_size=(2, 1, 0)) # Training, validation, testing set"
   ]
  },
  {
   "cell_type": "markdown",
   "metadata": {},
   "source": [
    "The arguments ``X_features`` and ``Y_label`` passed in the class constructor have been split with respect to ``relative_size`` for training, validation and testing sets.\n",
    "\n",
    "Let’s take a look at what ``relative_size`` means."
   ]
  },
  {
   "cell_type": "code",
   "execution_count": 6,
   "metadata": {},
   "outputs": [
    {
     "name": "stdout",
     "output_type": "stream",
     "text": [
      "[False, True, False, True, True, False, True, False, True, False, False] 1\n",
      "[False, True, False, True, True, False, True, False, True, False, True] 0\n",
      "[True, True, False, True, False, True, True, False, False, True, False] 0\n",
      "[False, False, False, False, False, False, True, True, False, False, True] 1\n",
      "[False, False, False, False, False, True, True, False, True, True, True] 1\n",
      "[False, False, True, True, False, True, True, True, False, True, True] 0\n",
      "[True, False, False, True, False, False, True, True, False, True, True] 0\n",
      "[True, True, False, False, True, False, False, True, False, True, True] 0\n",
      "[True, False, False, False, False, True, True, True, False, True, True] 0\n",
      "[True, True, False, True, True, True, True, True, False, False, True] 0\n"
     ]
    }
   ],
   "source": [
    "dataset = list(zip(X_features, Y_label))   # Pair-wise X-Y data\n",
    "\n",
    "# We print the 10 first only just to not overfill the notebook\n",
    "for features, label in dataset[:10]:\n",
    "    print(features, label)"
   ]
  },
  {
   "cell_type": "markdown",
   "metadata": {},
   "source": [
    "Now, we can apply ``relative_size`` to split the whole dataset into parts."
   ]
  },
  {
   "cell_type": "code",
   "execution_count": 7,
   "metadata": {},
   "outputs": [],
   "source": [
    "relative_size=(2, 1, 0)\n",
    "\n",
    "dtrain_relative, dval_relative, dtest_relative = relative_size\n",
    "\n",
    "# Compute absolute sizes with respect to full dataset\n",
    "sum_relative = sum([dtrain_relative, dval_relative, dtest_relative])\n",
    "\n",
    "dtrain_length = round(dtrain_relative / sum_relative * len(dataset))\n",
    "dval_length = round(dval_relative / sum_relative * len(dataset))\n",
    "dtest_length = round(dtest_relative / sum_relative * len(dataset))\n",
    "\n",
    "# Slice full dataset\n",
    "dtrain = dataset[:dtrain_length]\n",
    "dval = dataset[dtrain_length:dtrain_length + dval_length]\n",
    "dtest = dataset[dtrain_length + dval_length:]"
   ]
  },
  {
   "cell_type": "markdown",
   "metadata": {},
   "source": [
    "This is the procedure. Let’s see what happened."
   ]
  },
  {
   "cell_type": "code",
   "execution_count": 8,
   "metadata": {},
   "outputs": [
    {
     "name": "stdout",
     "output_type": "stream",
     "text": [
      "50\n",
      "33 2\n",
      "17 1\n",
      "0 0\n"
     ]
    }
   ],
   "source": [
    "print(len(dataset))\n",
    "\n",
    "print(len(dtrain), dtrain_relative)\n",
    "print(len(dval), dval_relative)\n",
    "print(len(dtest), dtest_relative)"
   ]
  },
  {
   "cell_type": "markdown",
   "metadata": {},
   "source": [
    "With ``relative_size=(2, 1, 0)`` we asked to prepare a training set ``dtrain`` two times bigger than the validation set ``dval``.\n",
    "\n",
    "We have 50 samples."
   ]
  },
  {
   "cell_type": "code",
   "execution_count": 9,
   "metadata": {},
   "outputs": [
    {
     "name": "stdout",
     "output_type": "stream",
     "text": [
      "33.333333333333336\n",
      "16.666666666666668\n"
     ]
    }
   ],
   "source": [
    "print(50 / 3 * 2)\n",
    "print(50 / 3 * 1)"
   ]
  },
  {
   "cell_type": "raw",
   "metadata": {},
   "source": [
    "We can not have fraction of samples. We need to round to the nearest integer."
   ]
  },
  {
   "cell_type": "code",
   "execution_count": 10,
   "metadata": {},
   "outputs": [
    {
     "name": "stdout",
     "output_type": "stream",
     "text": [
      "33\n",
      "17\n",
      "True\n",
      "True\n"
     ]
    }
   ],
   "source": [
    "print(round(50 / 3 * 2))\n",
    "print(round(50 / 3 * 1))\n",
    "\n",
    "print((round(50 / 3 * 2)) == len(dtrain))\n",
    "print((round(50 / 3 * 1)) == len(dval))"
   ]
  },
  {
   "cell_type": "markdown",
   "metadata": {},
   "source": [
    "Note that since we have set ``relative_size=(2, 1, 0)`` the testing set is empty."
   ]
  },
  {
   "cell_type": "markdown",
   "metadata": {},
   "source": [
    "Let's explore some properties and attributes of the instantiated ``embedding`` layer object."
   ]
  },
  {
   "cell_type": "code",
   "execution_count": 11,
   "metadata": {},
   "outputs": [
    {
     "name": "stdout",
     "output_type": "stream",
     "text": [
      "<class 'epynn.embedding.models.Embedding'>\n",
      "0 d {}\n",
      "1 fs {}\n",
      "2 p {}\n",
      "3 fc {}\n",
      "4 bs {}\n",
      "5 g {}\n",
      "6 bc {}\n",
      "7 o {}\n",
      "8 activation {}\n",
      "9 se_hPars None\n",
      "10 se_dataset {'dtrain_relative': 2, 'dval_relative': 1, 'dtest_relative': 0, 'batch_size': None, 'X_scale': False, 'X_encode': False, 'Y_encode': False}\n",
      "11 dtrain <epynn.commons.models.dataSet object at 0x7fda5b895a20>\n",
      "12 dval <epynn.commons.models.dataSet object at 0x7fda5b895588>\n",
      "13 dtest <epynn.commons.models.dataSet object at 0x7fda5b895550>\n",
      "14 dsets [<epynn.commons.models.dataSet object at 0x7fda5b895a20>, <epynn.commons.models.dataSet object at 0x7fda5b895588>]\n",
      "15 trainable False\n"
     ]
    }
   ],
   "source": [
    "# Type of object\n",
    "print(type(embedding))\n",
    "\n",
    "# Attributes and values of embedding layer\n",
    "for i, (attr, value) in enumerate(vars(embedding).items()):\n",
    "    print(i, attr, value)"
   ]
  },
  {
   "cell_type": "markdown",
   "metadata": {},
   "source": [
    "**Lines 0-9**: Inherited from ``epynn.commons.models.Layer`` which is the [Base Layer](https://epynn.net/Layer_Model.html#base-layer). These instance attributes exist for any layers in EpyNN.\n",
    "\n",
    "**Lines 10-15**: Instance attributes specific to ``epynn.embedding.models.Embedding`` layer. \n",
    "\n",
    "* (10) se_dataset: Contains data-related settings applied upon layer instantiation\n",
    "* (11-13) dtrain, dval, dtest: Training, validation and testing sets in EpyNN ``dataSet`` object.\n",
    "* (14) batch_dtrain: Training mini-batches. Contains the data actually used for training.\n",
    "* (15) dsets: Contains the active datasets that will be evaluated during training. It contains only two ``dataSet`` objects because dval was set to empty."
   ]
  },
  {
   "cell_type": "markdown",
   "metadata": {},
   "source": [
    "### The dataSet object"
   ]
  },
  {
   "cell_type": "markdown",
   "metadata": {},
   "source": [
    "Let's examine one ``dataSet`` object the same way."
   ]
  },
  {
   "cell_type": "code",
   "execution_count": 12,
   "metadata": {},
   "outputs": [
    {
     "name": "stdout",
     "output_type": "stream",
     "text": [
      "<class 'epynn.commons.models.dataSet'>\n",
      "0 name dtrain\n",
      "1 active True\n",
      "2 X [[False  True False ...  True False False]\n",
      " [False  True False ...  True False  True]\n",
      " [ True  True False ... False  True False]\n",
      " ...\n",
      " [ True False False ...  True False False]\n",
      " [False False False ...  True False  True]\n",
      " [False False  True ...  True False  True]]\n",
      "3 Y [[1]\n",
      " [0]\n",
      " [0]\n",
      " ...\n",
      " [1]\n",
      " [1]\n",
      " [1]]\n",
      "4 y [1 0 0 ... 1 1 1]\n",
      "5 b {1: 15, 0: 18}\n",
      "6 ids [ 0  1  2 ... 30 31 32]\n",
      "7 A []\n",
      "8 P []\n"
     ]
    }
   ],
   "source": [
    "# Type of object\n",
    "print(type(embedding.dtrain))\n",
    "\n",
    "# Attributes and values of embedding layer\n",
    "for i, (attr, value) in enumerate(vars(embedding.dtrain).items()):\n",
    "    print(i, attr, value)"
   ]
  },
  {
   "cell_type": "markdown",
   "metadata": {},
   "source": [
    "* (0) name: Self-explaining\n",
    "* (1) active: If it contains data\n",
    "* (2) X: Set of sample features\n",
    "* (3) Y: Set of sample label.\n",
    "* (4) y: Set of single-digit sample label.\n",
    "* (5) b: Balance of labels in set.\n",
    "* (6) ids: Sample identifiers.\n",
    "* (7) A: Output of forward propagation\n",
    "* (8) P: Label predictions.\n",
    "\n",
    "For full documentation of the ``epynn.commons.models.dataSet`` object, you can refer to [Data - Model](https://epynn.net/Data_Model.html).\n",
    "\n",
    "Note that in the present example we use single-digit labels and therefore the only difference between (3) and (4) is the shape. The reason for this apparent duplicate will appear in a subsequent notebook."
   ]
  },
  {
   "cell_type": "code",
   "execution_count": 13,
   "metadata": {},
   "outputs": [
    {
     "name": "stdout",
     "output_type": "stream",
     "text": [
      "(33, 1)\n",
      "(33,)\n",
      "True\n"
     ]
    }
   ],
   "source": [
    "print(embedding.dtrain.Y.shape)\n",
    "print(embedding.dtrain.y.shape)\n",
    "\n",
    "print(all(embedding.dtrain.Y.flatten() == embedding.dtrain.y))"
   ]
  },
  {
   "cell_type": "markdown",
   "metadata": {},
   "source": [
    "We described how to instantiate the embedding - or input - layer with EpyNN and we browsed the attached attribute-value pairs.\n",
    "\n",
    "We observed that it contains ``dataSet`` objects and we browsed the corresponding attribute-value pairs for the training set.\n",
    "\n",
    "We introduced all we needed to know.\n",
    "\n",
    "We are ready."
   ]
  },
  {
   "cell_type": "markdown",
   "metadata": {},
   "source": [
    "For more information about these concepts, please follow this link:\n",
    "\n",
    "* [Data - Model](https://epynn.net/Data_Model.html)"
   ]
  },
  {
   "cell_type": "markdown",
   "metadata": {},
   "source": [
    "### The Dense layer object"
   ]
  },
  {
   "cell_type": "code",
   "execution_count": 14,
   "metadata": {},
   "outputs": [],
   "source": [
    "dense = Dense()    # Defaults to Dense(nodes=1, activation=sigmoid)"
   ]
  },
  {
   "cell_type": "markdown",
   "metadata": {},
   "source": [
    "This one was easy. Let's inspect."
   ]
  },
  {
   "cell_type": "code",
   "execution_count": 15,
   "metadata": {},
   "outputs": [
    {
     "name": "stdout",
     "output_type": "stream",
     "text": [
      "<class 'epynn.dense.models.Dense'>\n",
      "0 d {'u': 1}\n",
      "1 fs {}\n",
      "2 p {}\n",
      "3 fc {}\n",
      "4 bs {}\n",
      "5 g {}\n",
      "6 bc {}\n",
      "7 o {}\n",
      "8 activation {'activate': 'sigmoid'}\n",
      "9 se_hPars None\n",
      "10 activate <function sigmoid at 0x7fda5b8906a8>\n",
      "11 initialization <function xavier at 0x7fda5b890840>\n",
      "12 trainable True\n"
     ]
    }
   ],
   "source": [
    "# Type of object\n",
    "print(type(dense))\n",
    "\n",
    "# Attributes and values of dense layer\n",
    "for i, (attr, value) in enumerate(vars(dense).items()):\n",
    "    print(i, attr, value)"
   ]
  },
  {
   "cell_type": "markdown",
   "metadata": {},
   "source": [
    "Note that (1) indicates the number of nodes in the Dense layer, and (8, 11) the activation function for this layer. See [Activation - Functions](https://epynn.net/activation.html) for details."
   ]
  },
  {
   "cell_type": "markdown",
   "metadata": {},
   "source": [
    "For code, maths and pictures behind layers in general and the dense layer in particular, follow these links:\n",
    "\n",
    "* [Base layer](https://epynn.net/Layer_Model.html#base-layer)\n",
    "* [Template layer](https://epynn.net/Layer_Model.html#template-layer)\n",
    "* [Fully Connected (Dense)](https://epynn.net/Dense.html)"
   ]
  },
  {
   "cell_type": "markdown",
   "metadata": {},
   "source": [
    "## The EpyNN Network object"
   ]
  },
  {
   "cell_type": "markdown",
   "metadata": {},
   "source": [
    "### Instantiate your Perceptron"
   ]
  },
  {
   "cell_type": "markdown",
   "metadata": {},
   "source": [
    "Now that we have an embedding (input) layer and a Dense (output) layer, we can instantiate the EpyNN object which represents the Neural Network."
   ]
  },
  {
   "cell_type": "code",
   "execution_count": 16,
   "metadata": {},
   "outputs": [],
   "source": [
    "layers = [embedding, dense]"
   ]
  },
  {
   "cell_type": "markdown",
   "metadata": {},
   "source": [
    "The list ``layers`` is the architecture of a Perceptron."
   ]
  },
  {
   "cell_type": "code",
   "execution_count": 17,
   "metadata": {},
   "outputs": [],
   "source": [
    "model = EpyNN(layers=layers, name='Perceptron_Dense-1-sigmoid')"
   ]
  },
  {
   "cell_type": "markdown",
   "metadata": {},
   "source": [
    "The object ``EpyNN`` is the Perceptron itself.\n",
    "\n",
    "Let's prove it."
   ]
  },
  {
   "cell_type": "code",
   "execution_count": 18,
   "metadata": {},
   "outputs": [
    {
     "name": "stdout",
     "output_type": "stream",
     "text": [
      "<class 'epynn.network.models.EpyNN'>\n",
      "0 layers [<epynn.embedding.models.Embedding object at 0x7fda5b895908>, <epynn.dense.models.Dense object at 0x7fda50f4fcf8>]\n",
      "1 embedding <epynn.embedding.models.Embedding object at 0x7fda5b895908>\n",
      "2 ts 1635012579\n",
      "3 uname 1635012579_Perceptron_Dense-1-sigmoid\n",
      "4 initialized False\n"
     ]
    }
   ],
   "source": [
    "# Type of object\n",
    "print(type(model))\n",
    "\n",
    "# Attributes and values of EpyNN model for a Perceptron\n",
    "for i, (attr, value) in enumerate(vars(model).items()):\n",
    "    print(i, attr, value)"
   ]
  },
  {
   "cell_type": "markdown",
   "metadata": {},
   "source": [
    "Does it really contain the layers we instantiated before?"
   ]
  },
  {
   "cell_type": "code",
   "execution_count": 19,
   "metadata": {},
   "outputs": [
    {
     "name": "stdout",
     "output_type": "stream",
     "text": [
      "True\n",
      "True\n"
     ]
    }
   ],
   "source": [
    "print((model.embedding == embedding))\n",
    "print((model.layers[-1] == dense))"
   ]
  },
  {
   "cell_type": "markdown",
   "metadata": {},
   "source": [
    "### Perceptron training"
   ]
  },
  {
   "cell_type": "markdown",
   "metadata": {},
   "source": [
    "It does seem so, yes.\n",
    "\n",
    "We are going to start the training of this Perceptron with all defaults, the very most simple form."
   ]
  },
  {
   "cell_type": "code",
   "execution_count": 20,
   "metadata": {},
   "outputs": [
    {
     "name": "stdout",
     "output_type": "stream",
     "text": [
      "\u001b[1m--- EpyNN Check ---                                                                                 \u001b[0m\n",
      "\u001b[1mLayer: Embedding\u001b[0m\n",
      "\u001b[1m\u001b[32mcompute_shapes: Embedding\u001b[0m\n",
      "\u001b[1m\u001b[32minitialize_parameters: Embedding\u001b[0m\n",
      "\u001b[1m\u001b[32mforward: Embedding\u001b[0m\n",
      "shape: (33, 11)\n",
      "\u001b[1mLayer: Dense\u001b[0m\n",
      "\u001b[1m\u001b[32mcompute_shapes: Dense\u001b[0m\n",
      "\u001b[1m\u001b[32minitialize_parameters: Dense\u001b[0m\n",
      "\u001b[1m\u001b[32mforward: Dense\u001b[0m\n",
      "shape: (33, 1)\n",
      "\u001b[1mLayer: Dense\u001b[0m\n",
      "\u001b[1m\u001b[36mbackward: Dense\u001b[0m\n",
      "shape: (33, 11)\n",
      "\u001b[1m\u001b[36mcompute_gradients: Dense\u001b[0m\n",
      "\u001b[1mLayer: Embedding\u001b[0m\n",
      "\u001b[1m\u001b[36mbackward: Embedding\u001b[0m\n",
      "shape: (33, 11)\n",
      "\u001b[1m\u001b[36mcompute_gradients: Embedding\u001b[0m\n",
      "\u001b[1m--- EpyNN Check OK! ---                                                                             \u001b[0m\n",
      "\u001b[1m----------------------- 1635012579_Perceptron_Dense-1-sigmoid -------------------------\n",
      "\u001b[0m\n",
      "\n",
      "\u001b[1m-------------------------------- Datasets ------------------------------------\n",
      "\u001b[0m\n",
      "+--------+------+-------+-------+\n",
      "| dtrain | dval | dtest | batch |\n",
      "|        |      |       | size  |\n",
      "+--------+------+-------+-------+\n",
      "| 33     | 17   | None  | None  |\n",
      "+--------+------+-------+-------+\n",
      "\n",
      "+----------+--------+------+-------+\n",
      "| N_LABELS | dtrain | dval | dtest |\n",
      "|          |        |      |       |\n",
      "+----------+--------+------+-------+\n",
      "| 2        | 0: 18  | 0: 9 | None  |\n",
      "|          | 1: 15  | 1: 8 |       |\n",
      "+----------+--------+------+-------+\n",
      "\n",
      "\u001b[1m----------------------- Model Architecture -------------------------\n",
      "\u001b[0m\n",
      "+----+-----------+------------+-------------------+-------------+--------------+\n",
      "| ID | Layer     | Dimensions | Activation        | FW_Shapes   | BW_Shapes    |\n",
      "+----+-----------+------------+-------------------+-------------+--------------+\n",
      "| 0  | Embedding | m: 33      |                   | X: (33, 11) | dA: (33, 11) |\n",
      "|    |           | n: 11      |                   | A: (33, 11) | dX: (33, 11) |\n",
      "+----+-----------+------------+-------------------+-------------+--------------+\n",
      "| 1  | Dense     | u: 1       | activate: sigmoid | X: (33, 11) | dA: (33, 1)  |\n",
      "|    |           | m: 33      |                   | W: (11, 1)  | dZ: (33, 1)  |\n",
      "|    |           | n: 11      |                   | b: (1, 1)   | dX: (33, 11) |\n",
      "|    |           |            |                   | Z: (33, 1)  |              |\n",
      "|    |           |            |                   | A: (33, 1)  |              |\n",
      "+----+-----------+------------+-------------------+-------------+--------------+\n",
      "\n",
      "\u001b[1m------------------------------------------- Layers ---------------------------------------------\n",
      "\u001b[0m\n",
      "+-------+--------+----------+---------+--------+---------+--------+----------+----------+-----+\n",
      "| Layer | epochs | schedule | decay_k | cycle  | cycle   | cycle  | learning | learning | end |\n",
      "|       |        |          |         | epochs | descent | number | rate     | rate     | (%) |\n",
      "|       |        |          |         |        |         |        | (start)  | (end)    |     |\n",
      "+-------+--------+----------+---------+--------+---------+--------+----------+----------+-----+\n",
      "| Dense | 100    | steady   | 0.050   | 0      | 0       | 1      | 0.100    | 0.100    | 100 |\n",
      "+-------+--------+----------+---------+--------+---------+--------+----------+----------+-----+\n",
      "\n",
      "+-------+-------+-------+-------------+\n",
      "| Layer | LRELU | ELU   | softmax     |\n",
      "|       | alpha | alpha | temperature |\n",
      "+-------+-------+-------+-------------+\n",
      "| Dense | 0.300 | 1     | 1           |\n",
      "+-------+-------+-------+-------------+\n",
      "\n",
      "\u001b[1m----------------------- 1635012579_Perceptron_Dense-1-sigmoid -------------------------\n",
      "\u001b[0m\n",
      "\n",
      "\u001b[1m\u001b[37mEpoch 99 - Batch 0/0 - Accuracy: 1.0 Cost: 0.06051 - TIME: 5.01s RATE: 2.00e+01e/s TTC: 0s          \u001b[0m\n",
      "\n",
      "+-------+----------+----------+-------+--------+-------+---------------------------------------+\n",
      "| \u001b[1m\u001b[37mepoch\u001b[0m |  \u001b[1m\u001b[37mlrate\u001b[0m   | \u001b[1m\u001b[32maccuracy\u001b[0m |       |  \u001b[1m\u001b[31mMSE\u001b[0m   |       |              \u001b[37mExperiment\u001b[0m               |\n",
      "|       |  \u001b[37mDense\u001b[0m   |  \u001b[1m\u001b[32mdtrain\u001b[0m  | \u001b[1m\u001b[32mdval\u001b[0m  | \u001b[1m\u001b[31mdtrain\u001b[0m | \u001b[1m\u001b[31mdval\u001b[0m  |                                       |\n",
      "+-------+----------+----------+-------+--------+-------+---------------------------------------+\n",
      "|   \u001b[1m\u001b[37m0\u001b[0m   | \u001b[1m\u001b[37m1.00e-01\u001b[0m |  \u001b[1m\u001b[32m0.545\u001b[0m   | \u001b[1m\u001b[32m0.471\u001b[0m | \u001b[1m\u001b[31m0.353\u001b[0m  | \u001b[1m\u001b[31m0.366\u001b[0m | \u001b[37m1635012579_Perceptron_Dense-1-sigmoid\u001b[0m |\n",
      "|  \u001b[1m\u001b[37m10\u001b[0m   | \u001b[1m\u001b[37m1.00e-01\u001b[0m |  \u001b[1m\u001b[32m0.727\u001b[0m   | \u001b[1m\u001b[32m0.529\u001b[0m | \u001b[1m\u001b[31m0.175\u001b[0m  | \u001b[1m\u001b[31m0.238\u001b[0m | \u001b[37m1635012579_Perceptron_Dense-1-sigmoid\u001b[0m |\n",
      "|  \u001b[1m\u001b[37m20\u001b[0m   | \u001b[1m\u001b[37m1.00e-01\u001b[0m |  \u001b[1m\u001b[32m0.848\u001b[0m   | \u001b[1m\u001b[32m0.706\u001b[0m | \u001b[1m\u001b[31m0.136\u001b[0m  | \u001b[1m\u001b[31m0.204\u001b[0m | \u001b[37m1635012579_Perceptron_Dense-1-sigmoid\u001b[0m |\n",
      "|  \u001b[1m\u001b[37m30\u001b[0m   | \u001b[1m\u001b[37m1.00e-01\u001b[0m |  \u001b[1m\u001b[32m0.848\u001b[0m   | \u001b[1m\u001b[32m0.765\u001b[0m | \u001b[1m\u001b[31m0.115\u001b[0m  | \u001b[1m\u001b[31m0.184\u001b[0m | \u001b[37m1635012579_Perceptron_Dense-1-sigmoid\u001b[0m |\n",
      "|  \u001b[1m\u001b[37m40\u001b[0m   | \u001b[1m\u001b[37m1.00e-01\u001b[0m |  \u001b[1m\u001b[32m0.879\u001b[0m   | \u001b[1m\u001b[32m0.765\u001b[0m | \u001b[1m\u001b[31m0.100\u001b[0m  | \u001b[1m\u001b[31m0.170\u001b[0m | \u001b[37m1635012579_Perceptron_Dense-1-sigmoid\u001b[0m |\n",
      "|  \u001b[1m\u001b[37m50\u001b[0m   | \u001b[1m\u001b[37m1.00e-01\u001b[0m |  \u001b[1m\u001b[32m1.000\u001b[0m   | \u001b[1m\u001b[32m0.824\u001b[0m | \u001b[1m\u001b[31m0.089\u001b[0m  | \u001b[1m\u001b[31m0.160\u001b[0m | \u001b[37m1635012579_Perceptron_Dense-1-sigmoid\u001b[0m |\n",
      "|  \u001b[1m\u001b[37m60\u001b[0m   | \u001b[1m\u001b[37m1.00e-01\u001b[0m |  \u001b[1m\u001b[32m1.000\u001b[0m   | \u001b[1m\u001b[32m0.824\u001b[0m | \u001b[1m\u001b[31m0.081\u001b[0m  | \u001b[1m\u001b[31m0.153\u001b[0m | \u001b[37m1635012579_Perceptron_Dense-1-sigmoid\u001b[0m |\n",
      "|  \u001b[1m\u001b[37m70\u001b[0m   | \u001b[1m\u001b[37m1.00e-01\u001b[0m |  \u001b[1m\u001b[32m1.000\u001b[0m   | \u001b[1m\u001b[32m0.824\u001b[0m | \u001b[1m\u001b[31m0.074\u001b[0m  | \u001b[1m\u001b[31m0.148\u001b[0m | \u001b[37m1635012579_Perceptron_Dense-1-sigmoid\u001b[0m |\n",
      "|  \u001b[1m\u001b[37m80\u001b[0m   | \u001b[1m\u001b[37m1.00e-01\u001b[0m |  \u001b[1m\u001b[32m1.000\u001b[0m   | \u001b[1m\u001b[32m0.824\u001b[0m | \u001b[1m\u001b[31m0.069\u001b[0m  | \u001b[1m\u001b[31m0.144\u001b[0m | \u001b[37m1635012579_Perceptron_Dense-1-sigmoid\u001b[0m |\n",
      "|  \u001b[1m\u001b[37m90\u001b[0m   | \u001b[1m\u001b[37m1.00e-01\u001b[0m |  \u001b[1m\u001b[32m1.000\u001b[0m   | \u001b[1m\u001b[32m0.824\u001b[0m | \u001b[1m\u001b[31m0.064\u001b[0m  | \u001b[1m\u001b[31m0.141\u001b[0m | \u001b[37m1635012579_Perceptron_Dense-1-sigmoid\u001b[0m |\n",
      "|  \u001b[1m\u001b[37m99\u001b[0m   | \u001b[1m\u001b[37m1.00e-01\u001b[0m |  \u001b[1m\u001b[32m1.000\u001b[0m   | \u001b[1m\u001b[32m0.824\u001b[0m | \u001b[1m\u001b[31m0.060\u001b[0m  | \u001b[1m\u001b[31m0.139\u001b[0m | \u001b[37m1635012579_Perceptron_Dense-1-sigmoid\u001b[0m |\n",
      "+-------+----------+----------+-------+--------+-------+---------------------------------------+\n"
     ]
    }
   ],
   "source": [
    "model.train(epochs=100)"
   ]
  },
  {
   "cell_type": "markdown",
   "metadata": {},
   "source": [
    "With all defaults, EpyNN returns:\n",
    "\n",
    "* **EpyNN Check**: Result of a blank epoch to make sure the network is functional. For each layer, output shapes are returned for both the forward and backward propagation.\n",
    "* **init_logs**: Extended report about datasets, network architecture and shapes.\n",
    "* **Evaluation**: Real time evaluation of non-empty datasets (may include dtrain, dval, dtest) with default metrics accuracy and default loss function MSE.\n",
    "\n",
    "See [How to use EpyNN - Console](https://epynn.net/quickstart.html#console) for more details.\n",
    "\n",
    "You may also like to review the [Loss - Functions](https://epynn.net/loss.html).\n",
    "\n",
    "For **Evaluation** and to be straightforward, we want:\n",
    "\n",
    "* Metrics (e.g., accuracy) as high as possible.\n",
    "* Cost (e.g., MSE) as low as possible.\n",
    "* Differences in metrics and cost between training and validation data to be **as low as possible**, otherwise we talk about **overfitting**.\n",
    "\n",
    "**Overfitting** happens when the model corresponds too closely to a particular set of data.\n",
    "\n",
    "The terminal report indicates:\n",
    "\n",
    "* Accuracy is 1 or 100% for the training set and 0.824 or 82.4% for the validation set.\n",
    "* MSE is 0.058 and 0.137 for the training and validation set, respectively.\n",
    "* Differences between training and validation data are significant but the model could reproduce the validation data with acceptable accuracy. Still, we are in presence of **overfitting**.\n",
    "\n",
    "In the next notebooks, we will see in practice how to reduce **overfitting**.\n",
    "\n",
    "Now, we can take the opportunity to define what accuracy means:"
   ]
  },
  {
   "cell_type": "code",
   "execution_count": 21,
   "metadata": {},
   "outputs": [
    {
     "name": "stdout",
     "output_type": "stream",
     "text": [
      "[0] [0.11410111] [0.]\n",
      "[0] [0.3685481] [0.]\n",
      "[1] [0.56424027] [1.]\n",
      "[1] [0.70890874] [1.]\n",
      "[1] [0.2574327] [0.]\n",
      "[0] [0.1535039] [0.]\n",
      "[1] [0.73879129] [1.]\n",
      "[0] [0.08929307] [0.]\n",
      "[1] [0.97723744] [1.]\n",
      "[1] [0.24305472] [0.]\n"
     ]
    }
   ],
   "source": [
    "Y_train = model.embedding.dval.Y  # True labels (i.e. target values)\n",
    "A_train = model.embedding.dval.A  # Probabilities - Output of model\n",
    "P_train = model.embedding.dval.P  # Decision from probabilities\n",
    "\n",
    "for y, a, p in list(zip(Y_train, A_train, P_train))[:10]:\n",
    "    print(y, a, p)"
   ]
  },
  {
   "cell_type": "markdown",
   "metadata": {},
   "source": [
    "This print denotes for each row, by column:\n",
    "\n",
    "* The true label or target value: It is ``0`` or ``1`` herein.\n",
    "* The output probability: The value is within \\[0, 1\\]. Therefore, the higher the probability the more confident the model is to predict a label of ``1``. Conversely, the lower the probability the more confident the model is to predict a label of ``0``.\n",
    "* The predicted label or output decision: This is the rounding of the output probability to the nearest integer.\n",
    "\n",
    "When the number of output nodes is equal to one, rounding of the output probability is as follows:"
   ]
  },
  {
   "cell_type": "code",
   "execution_count": 22,
   "metadata": {},
   "outputs": [
    {
     "name": "stdout",
     "output_type": "stream",
     "text": [
      "True\n"
     ]
    }
   ],
   "source": [
    "print(all(np.around(A_train) == P_train))"
   ]
  },
  {
   "cell_type": "markdown",
   "metadata": {},
   "source": [
    "Then, the accuracy for each sample is defined as:"
   ]
  },
  {
   "cell_type": "code",
   "execution_count": 23,
   "metadata": {},
   "outputs": [
    {
     "name": "stdout",
     "output_type": "stream",
     "text": [
      "[[ True]\n",
      " [ True]\n",
      " [ True]\n",
      " ...\n",
      " [ True]\n",
      " [False]\n",
      " [ True]]\n"
     ]
    }
   ],
   "source": [
    "print((Y_train == P_train))"
   ]
  },
  {
   "cell_type": "markdown",
   "metadata": {},
   "source": [
    "Note that the accuracy for each sample is `True` or `False` which evaluates to `1` and `0`, respectively.\n",
    "\n",
    "To compute the accuracy with respect to the whole dataset, we need the mean:"
   ]
  },
  {
   "cell_type": "code",
   "execution_count": 24,
   "metadata": {},
   "outputs": [
    {
     "name": "stdout",
     "output_type": "stream",
     "text": [
      "0.8235294117647058\n",
      "0.824\n"
     ]
    }
   ],
   "source": [
    "print((Y_train == P_train).mean())\n",
    "print(np.around((Y_train == P_train).mean(), 3))"
   ]
  },
  {
   "cell_type": "markdown",
   "metadata": {},
   "source": [
    "Note the rounded value is, as expected, identical to the accuracy reported for the last epoch on the validation set.\n",
    "\n",
    "We can finally plot the results:"
   ]
  },
  {
   "cell_type": "code",
   "execution_count": 25,
   "metadata": {},
   "outputs": [
    {
     "data": {
      "image/png": "[encoded data removed]",
      "text/plain": [
       "<Figure size 432x288 with 1 Axes>"
      ]
     },
     "metadata": {
      "needs_background": "light"
     },
     "output_type": "display_data"
    }
   ],
   "source": [
    "model.plot(path=False)"
   ]
  },
  {
   "cell_type": "markdown",
   "metadata": {},
   "source": [
    "In this plot, *dtrain* and *dval* refer to the training and validation set and accuracy/MSE values are identical to those printed on the terminal. This is simply a graphical representation of the tabular log report.\n",
    "\n",
    "For code, maths and pictures behind the EpyNN model, follow this link:\n",
    "\n",
    "* [Neural Network - Model](https://epynn.net/EpyNN_Model.html)"
   ]
  },
  {
   "cell_type": "markdown",
   "metadata": {},
   "source": [
    "## Write, read & Predict"
   ]
  },
  {
   "cell_type": "markdown",
   "metadata": {},
   "source": [
    "A trained model can be written on disk such as:"
   ]
  },
  {
   "cell_type": "code",
   "execution_count": 26,
   "metadata": {},
   "outputs": [
    {
     "name": "stdout",
     "output_type": "stream",
     "text": [
      "\u001b[1m\u001b[32mMake: /media/synthase/beta/EpyNN/epynnlive/dummy_boolean/models/1635012579_Perceptron_Dense-1-sigmoid.pickle\u001b[0m\n"
     ]
    }
   ],
   "source": [
    "model.write()\n",
    "\n",
    "# model.write(path=/your/custom/path)"
   ]
  },
  {
   "cell_type": "markdown",
   "metadata": {},
   "source": [
    "A model can be read from disk such as:"
   ]
  },
  {
   "cell_type": "code",
   "execution_count": 27,
   "metadata": {},
   "outputs": [],
   "source": [
    "model = read_model()\n",
    "\n",
    "# model = read_model(path=/your/custom/path)"
   ]
  },
  {
   "cell_type": "markdown",
   "metadata": {},
   "source": [
    "We can retrieve new features and predict on them."
   ]
  },
  {
   "cell_type": "code",
   "execution_count": 28,
   "metadata": {},
   "outputs": [],
   "source": [
    "X_features, _ = prepare_dataset(N_SAMPLES=10)\n",
    "\n",
    "dset = model.predict(X_features)"
   ]
  },
  {
   "cell_type": "markdown",
   "metadata": {},
   "source": [
    "Results can be extracted such as:"
   ]
  },
  {
   "cell_type": "code",
   "execution_count": 29,
   "metadata": {},
   "outputs": [
    {
     "name": "stdout",
     "output_type": "stream",
     "text": [
      "0 [0.] [0.30474328] [ True False False ...  True  True  True]\n",
      "1 [0.] [0.15047178] [ True  True  True ...  True False  True]\n",
      "2 [0.] [0.42212226] [False  True False ...  True  True  True]\n",
      "3 [0.] [0.08644176] [False  True  True ... False  True  True]\n",
      "4 [1.] [0.89729681] [ True False  True ...  True False False]\n",
      "5 [0.] [0.38662925] [False  True False ...  True  True  True]\n",
      "6 [0.] [0.09965696] [False False  True ... False  True  True]\n",
      "7 [0.] [0.17496899] [False False  True ... False  True False]\n",
      "8 [0.] [0.14096522] [ True False  True ...  True  True  True]\n",
      "9 [0.] [0.16082026] [ True  True  True ...  True  True  True]\n"
     ]
    }
   ],
   "source": [
    "for n, pred, probs, features in zip(dset.ids, dset.P, dset.A, dset.X):\n",
    "    print(n, pred, probs, features)\n",
    "    # pred = output (decision); probs = output (probability)"
   ]
  }
 ],
 "metadata": {
  "kernelspec": {
   "display_name": "Python 3 (ipykernel)",
   "language": "python",
   "name": "python3"
  },
  "language_info": {
   "codemirror_mode": {
    "name": "ipython",
    "version": 3
   },
   "file_extension": ".py",
   "mimetype": "text/x-python",
   "name": "python",
   "nbconvert_exporter": "python",
   "pygments_lexer": "ipython3",
   "version": "3.9.2"
  }
 },
 "nbformat": 4,
 "nbformat_minor": 4
}
